{
 "cells": [
  {
   "cell_type": "code",
   "execution_count": 47,
   "id": "3d7d4055",
   "metadata": {},
   "outputs": [],
   "source": [
    "import torch\n",
    "import torch.nn as nn\n",
    "import torch.nn.functional as F\n",
    "from torch.utils.data import DataLoader, TensorDataset\n",
    "from transformers import AutoTokenizer, AutoModel\n",
    "import pickle\n",
    "from datasets import load_dataset\n",
    "from sklearn.preprocessing import LabelEncoder\n",
    "from torch.utils.data import TensorDataset, DataLoader\n",
    "import numpy as np\n"
   ]
  },
  {
   "cell_type": "code",
   "execution_count": 104,
   "id": "40bb72d6",
   "metadata": {},
   "outputs": [],
   "source": [
    "device = torch.device(\"cuda\" if torch.cuda.is_available() else \"cpu\")"
   ]
  },
  {
   "cell_type": "code",
   "execution_count": 105,
   "id": "02f02b54",
   "metadata": {},
   "outputs": [],
   "source": [
    "dataset = load_dataset(\"ThuraAung1601/myanmar_news\")\n",
    "train_texts = dataset[\"train\"][\"text\"]\n",
    "train_labels = dataset[\"train\"][\"label\"]\n",
    "test_texts = dataset[\"test\"][\"text\"]\n",
    "test_labels = dataset[\"test\"][\"label\"]"
   ]
  },
  {
   "cell_type": "code",
   "execution_count": 120,
   "id": "d1971836",
   "metadata": {},
   "outputs": [
    {
     "name": "stdout",
     "output_type": "stream",
     "text": [
      "Total mapped vectors: 76700\n",
      "Example: ပထမအင်္ဂလိပ်အက္ခရာ [-0.03610078 -0.02706265 -0.02505255 -0.03319115 -0.02951134 -0.02600441\n",
      " -0.02033756 -0.039611   -0.03369364 -0.02263284]\n"
     ]
    }
   ],
   "source": [
    "with open(\"save/mapped_vectors.pkl\", \"rb\") as f:\n",
    "    mapped_vectors = pickle.load(f)\n",
    "\n",
    "print(f\"Total mapped vectors: {len(mapped_vectors)}\")\n",
    "example_key = list(mapped_vectors.keys())[0]\n",
    "print(\"Example:\", example_key, mapped_vectors[example_key][:10])\n"
   ]
  },
  {
   "cell_type": "code",
   "execution_count": null,
   "id": "c701baa4",
   "metadata": {},
   "outputs": [
    {
     "data": {
      "text/plain": [
       "DAEME(\n",
       "  (encoder_burmese): Linear(in_features=300, out_features=300, bias=True)\n",
       "  (encoder_english): Linear(in_features=300, out_features=300, bias=True)\n",
       "  (decoder_burmese): Linear(in_features=300, out_features=300, bias=True)\n",
       "  (decoder_english): Linear(in_features=300, out_features=300, bias=True)\n",
       "  (activation): ReLU()\n",
       ")"
      ]
     },
     "execution_count": 106,
     "metadata": {},
     "output_type": "execute_result"
    }
   ],
   "source": [
    "# model = torch.load(\"save/daeme_model.pth\", map_location=device, weights_only=False)\n",
    "# model.to(device)\n",
    "# model.eval()\n"
   ]
  },
  {
   "cell_type": "code",
   "execution_count": 121,
   "id": "72c21e23",
   "metadata": {},
   "outputs": [],
   "source": [
    "def texts_to_vectors(texts, vec_dict):\n",
    "    vec = []\n",
    "    for t in texts:\n",
    "        if t in vec_dict:\n",
    "            vec.append(vec_dict[t])\n",
    "        else:\n",
    "            vec.append(np.random.normal(0, 0.01, 300))\n",
    "    return F.normalize(torch.tensor(vec, dtype=torch.float32), p=2, dim=1).to(device)\n"
   ]
  },
  {
   "cell_type": "code",
   "execution_count": 122,
   "id": "65e2a613",
   "metadata": {},
   "outputs": [
    {
     "name": "stdout",
     "output_type": "stream",
     "text": [
      "Mean: -0.04369891807436943\n",
      "Std: 0.05215756595134735\n"
     ]
    }
   ],
   "source": [
    "all_vecs = torch.tensor(list(mapped_vectors.values()))\n",
    "print(\"Mean:\", all_vecs.mean().item())\n",
    "print(\"Std:\", all_vecs.std().item())\n"
   ]
  },
  {
   "cell_type": "code",
   "execution_count": 123,
   "id": "023c7882",
   "metadata": {},
   "outputs": [],
   "source": [
    "label_encoder = LabelEncoder()\n",
    "train_labels = list(train_labels)\n",
    "test_labels = list(test_labels)\n",
    "all_labels = train_labels + test_labels\n",
    "label_encoder.fit(all_labels)\n",
    "\n",
    "train_encoded = label_encoder.transform(train_labels)\n",
    "test_encoded = label_encoder.transform(test_labels)"
   ]
  },
  {
   "cell_type": "code",
   "execution_count": 124,
   "id": "2fdeb07d",
   "metadata": {},
   "outputs": [
    {
     "name": "stdout",
     "output_type": "stream",
     "text": [
      "Train tensor shape: torch.Size([5844, 300])\n",
      "Test tensor shape: torch.Size([1471, 300])\n"
     ]
    }
   ],
   "source": [
    "X_train = texts_to_vectors(train_texts, mapped_vectors)\n",
    "X_test = texts_to_vectors(test_texts, mapped_vectors)\n",
    "y_train = torch.tensor(train_encoded, dtype=torch.long).to(device)\n",
    "y_test = torch.tensor(test_encoded, dtype=torch.long).to(device)\n",
    "\n",
    "print(\"Train tensor shape:\", X_train.shape)\n",
    "print(\"Test tensor shape:\", X_test.shape)"
   ]
  },
  {
   "cell_type": "code",
   "execution_count": 125,
   "id": "e96efd38",
   "metadata": {},
   "outputs": [],
   "source": [
    "train_dataset = TensorDataset(X_train, y_train)\n",
    "test_dataset = TensorDataset(X_test, y_test)\n",
    "\n",
    "train_loader = DataLoader(train_dataset, batch_size=64, shuffle=True)\n",
    "test_loader = DataLoader(test_dataset, batch_size=64)"
   ]
  },
  {
   "cell_type": "code",
   "execution_count": 126,
   "id": "df174247",
   "metadata": {},
   "outputs": [
    {
     "name": "stdout",
     "output_type": "stream",
     "text": [
      "5844 5844 5844\n"
     ]
    }
   ],
   "source": [
    "print(len(train_texts), X_train.shape[0], y_train.shape[0])\n"
   ]
  },
  {
   "cell_type": "code",
   "execution_count": 128,
   "id": "fc8d4ebe",
   "metadata": {},
   "outputs": [],
   "source": [
    "class MLPClassifier(nn.Module):\n",
    "    def __init__(self, input_dim=300, hidden_dim1=512, hidden_dim2=256, num_classes=6):\n",
    "        super().__init__()\n",
    "        self.fc1 = nn.Linear(input_dim, hidden_dim1)\n",
    "        self.bn1 = nn.BatchNorm1d(hidden_dim1)\n",
    "        self.fc2 = nn.Linear(hidden_dim1, hidden_dim2)\n",
    "        self.bn2 = nn.BatchNorm1d(hidden_dim2)\n",
    "        self.fc3 = nn.Linear(hidden_dim2, num_classes)\n",
    "        self.relu = nn.ReLU()\n",
    "        self.dropout = nn.Dropout(0.4)\n",
    "\n",
    "    def forward(self, x):\n",
    "        x = self.relu(self.bn1(self.fc1(x)))\n",
    "        x = self.dropout(x)\n",
    "        x = self.relu(self.bn2(self.fc2(x)))\n",
    "        x = self.dropout(x)\n",
    "        return self.fc3(x)\n"
   ]
  },
  {
   "cell_type": "code",
   "execution_count": 129,
   "id": "fdca881a",
   "metadata": {},
   "outputs": [],
   "source": [
    "model = MLPClassifier().to(device)\n",
    "criterion = nn.CrossEntropyLoss()\n",
    "optimizer = torch.optim.Adam(model.parameters(),lr = 0.0001) \n",
    "epochs = 100\n",
    "batch_size = 64"
   ]
  },
  {
   "cell_type": "code",
   "execution_count": 130,
   "id": "d1356092",
   "metadata": {},
   "outputs": [
    {
     "name": "stdout",
     "output_type": "stream",
     "text": [
      "Epoch 1, Loss: 1.8775\n",
      "Epoch 2, Loss: 1.8447\n",
      "Epoch 3, Loss: 1.8101\n",
      "Epoch 4, Loss: 1.7897\n",
      "Epoch 5, Loss: 1.7697\n",
      "Epoch 6, Loss: 1.7476\n",
      "Epoch 7, Loss: 1.7361\n",
      "Epoch 8, Loss: 1.7171\n",
      "Epoch 9, Loss: 1.6943\n",
      "Epoch 10, Loss: 1.6695\n",
      "Epoch 11, Loss: 1.6584\n",
      "Epoch 12, Loss: 1.6408\n",
      "Epoch 13, Loss: 1.6156\n",
      "Epoch 14, Loss: 1.6047\n",
      "Epoch 15, Loss: 1.5692\n",
      "Epoch 16, Loss: 1.5530\n",
      "Epoch 17, Loss: 1.5295\n",
      "Epoch 18, Loss: 1.5153\n",
      "Epoch 19, Loss: 1.4914\n",
      "Epoch 20, Loss: 1.4836\n",
      "Epoch 21, Loss: 1.4540\n",
      "Epoch 22, Loss: 1.4378\n",
      "Epoch 23, Loss: 1.4059\n",
      "Epoch 24, Loss: 1.3887\n",
      "Epoch 25, Loss: 1.3573\n",
      "Epoch 26, Loss: 1.3473\n",
      "Epoch 27, Loss: 1.3073\n",
      "Epoch 28, Loss: 1.2905\n",
      "Epoch 29, Loss: 1.2709\n",
      "Epoch 30, Loss: 1.2299\n",
      "Epoch 31, Loss: 1.2065\n",
      "Epoch 32, Loss: 1.1836\n",
      "Epoch 33, Loss: 1.1631\n",
      "Epoch 34, Loss: 1.1335\n",
      "Epoch 35, Loss: 1.1088\n",
      "Epoch 36, Loss: 1.0712\n",
      "Epoch 37, Loss: 1.0504\n",
      "Epoch 38, Loss: 1.0305\n",
      "Epoch 39, Loss: 1.0075\n",
      "Epoch 40, Loss: 0.9793\n",
      "Epoch 41, Loss: 0.9642\n",
      "Epoch 42, Loss: 0.9253\n",
      "Epoch 43, Loss: 0.8924\n",
      "Epoch 44, Loss: 0.8758\n",
      "Epoch 45, Loss: 0.8678\n",
      "Epoch 46, Loss: 0.8570\n",
      "Epoch 47, Loss: 0.8264\n",
      "Epoch 48, Loss: 0.7930\n",
      "Epoch 49, Loss: 0.7747\n",
      "Epoch 50, Loss: 0.7633\n",
      "Epoch 51, Loss: 0.7407\n",
      "Epoch 52, Loss: 0.7257\n",
      "Epoch 53, Loss: 0.6948\n",
      "Epoch 54, Loss: 0.6768\n",
      "Epoch 55, Loss: 0.6758\n",
      "Epoch 56, Loss: 0.6590\n",
      "Epoch 57, Loss: 0.6505\n",
      "Epoch 58, Loss: 0.6364\n",
      "Epoch 59, Loss: 0.6407\n",
      "Epoch 60, Loss: 0.6070\n",
      "Epoch 61, Loss: 0.5819\n",
      "Epoch 62, Loss: 0.5686\n",
      "Epoch 63, Loss: 0.5690\n",
      "Epoch 64, Loss: 0.5541\n",
      "Epoch 65, Loss: 0.5643\n",
      "Epoch 66, Loss: 0.5348\n",
      "Epoch 67, Loss: 0.5223\n",
      "Epoch 68, Loss: 0.5173\n",
      "Epoch 69, Loss: 0.5154\n",
      "Epoch 70, Loss: 0.4955\n",
      "Epoch 71, Loss: 0.5072\n",
      "Epoch 72, Loss: 0.4655\n",
      "Epoch 73, Loss: 0.4702\n",
      "Epoch 74, Loss: 0.4419\n",
      "Epoch 75, Loss: 0.4440\n",
      "Epoch 76, Loss: 0.4361\n",
      "Epoch 77, Loss: 0.4382\n",
      "Epoch 78, Loss: 0.4368\n",
      "Epoch 79, Loss: 0.4177\n",
      "Epoch 80, Loss: 0.4210\n",
      "Epoch 81, Loss: 0.4065\n",
      "Epoch 82, Loss: 0.3877\n",
      "Epoch 83, Loss: 0.4048\n",
      "Epoch 84, Loss: 0.3894\n",
      "Epoch 85, Loss: 0.3846\n",
      "Epoch 86, Loss: 0.3727\n",
      "Epoch 87, Loss: 0.3637\n",
      "Epoch 88, Loss: 0.3606\n",
      "Epoch 89, Loss: 0.3780\n",
      "Epoch 90, Loss: 0.3808\n",
      "Epoch 91, Loss: 0.3730\n",
      "Epoch 92, Loss: 0.3328\n",
      "Epoch 93, Loss: 0.3439\n",
      "Epoch 94, Loss: 0.3471\n",
      "Epoch 95, Loss: 0.3144\n",
      "Epoch 96, Loss: 0.3183\n",
      "Epoch 97, Loss: 0.3389\n",
      "Epoch 98, Loss: 0.3268\n",
      "Epoch 99, Loss: 0.3131\n",
      "Epoch 100, Loss: 0.3138\n"
     ]
    }
   ],
   "source": [
    "# Training loop\n",
    "for epoch in range(epochs):\n",
    "    model.train()\n",
    "    total_loss = 0\n",
    "    \n",
    "    for batch_x, batch_y in train_loader:\n",
    "        batch_x, batch_y = batch_x.to(device), batch_y.to(device)\n",
    "        \n",
    "        optimizer.zero_grad()\n",
    "        outputs = model(batch_x)\n",
    "        loss = criterion(outputs, batch_y)\n",
    "        loss.backward()\n",
    "        optimizer.step()\n",
    "        \n",
    "        total_loss += loss.item()\n",
    "    print(f\"Epoch {epoch+1}, Loss: {total_loss/len(train_loader):.4f}\")\n"
   ]
  },
  {
   "cell_type": "code",
   "execution_count": 131,
   "id": "3f0aff53",
   "metadata": {},
   "outputs": [
    {
     "name": "stdout",
     "output_type": "stream",
     "text": [
      "Test Accuracy: 0.1693\n"
     ]
    }
   ],
   "source": [
    "model.eval()\n",
    "with torch.no_grad():\n",
    "    outputs = model(X_test)\n",
    "    _, preds = torch.max(outputs, 1)\n",
    "    test_acc = (preds == y_test).sum().item() / y_test.size(0)\n",
    "print(f\"Test Accuracy: {test_acc:.4f}\")\n"
   ]
  },
  {
   "cell_type": "code",
   "execution_count": 132,
   "id": "952415cd",
   "metadata": {},
   "outputs": [
    {
     "name": "stdout",
     "output_type": "stream",
     "text": [
      "                             precision    recall  f1-score   support\n",
      "\n",
      "          __label__Business       0.17      0.18      0.18       265\n",
      "     __label__Entertainment       0.17      0.16      0.17       241\n",
      "       __label__Environment       0.18      0.16      0.17       228\n",
      "          __label__Politics       0.17      0.20      0.18       245\n",
      "__label__Science&Technology       0.16      0.16      0.16       239\n",
      "            __label__Sports       0.17      0.15      0.16       253\n",
      "\n",
      "                   accuracy                           0.17      1471\n",
      "                  macro avg       0.17      0.17      0.17      1471\n",
      "               weighted avg       0.17      0.17      0.17      1471\n",
      "\n"
     ]
    }
   ],
   "source": [
    "from sklearn.metrics import classification_report\n",
    "\n",
    "print(classification_report(y_test.cpu(), preds.cpu(), target_names=label_encoder.classes_))\n"
   ]
  },
  {
   "cell_type": "code",
   "execution_count": 133,
   "id": "b6375f3b",
   "metadata": {},
   "outputs": [
    {
     "data": {
      "image/png": "[encoded data removed]",
      "text/plain": [
       "<Figure size 800x600 with 2 Axes>"
      ]
     },
     "metadata": {},
     "output_type": "display_data"
    }
   ],
   "source": [
    "from sklearn.metrics import confusion_matrix\n",
    "import seaborn as sns\n",
    "import matplotlib.pyplot as plt\n",
    "\n",
    "cm = confusion_matrix(y_test.cpu(), preds.cpu())\n",
    "plt.figure(figsize=(8,6))\n",
    "sns.heatmap(cm, annot=True, fmt=\"d\", xticklabels=label_encoder.classes_, yticklabels=label_encoder.classes_, cmap=\"Blues\")\n",
    "plt.xlabel(\"Predicted\")\n",
    "plt.ylabel(\"Actual\")\n",
    "plt.title(\"Confusion Matrix\")\n",
    "plt.show()\n",
    "\n"
   ]
  }
 ],
 "metadata": {
  "kernelspec": {
   "display_name": "venv (3.12.6)",
   "language": "python",
   "name": "python3"
  },
  "language_info": {
   "codemirror_mode": {
    "name": "ipython",
    "version": 3
   },
   "file_extension": ".py",
   "mimetype": "text/x-python",
   "name": "python",
   "nbconvert_exporter": "python",
   "pygments_lexer": "ipython3",
   "version": "3.12.6"
  }
 },
 "nbformat": 4,
 "nbformat_minor": 5
}
