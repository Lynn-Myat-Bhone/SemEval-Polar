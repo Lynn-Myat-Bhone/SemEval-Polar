{
 "cells": [
  {
   "cell_type": "code",
   "execution_count": 7,
   "id": "3d7d4055",
   "metadata": {},
   "outputs": [
    {
     "name": "stderr",
     "output_type": "stream",
     "text": [
      "d:\\semeval\\venv\\Lib\\site-packages\\tqdm\\auto.py:21: TqdmWarning: IProgress not found. Please update jupyter and ipywidgets. See https://ipywidgets.readthedocs.io/en/stable/user_install.html\n",
      "  from .autonotebook import tqdm as notebook_tqdm\n"
     ]
    }
   ],
   "source": [
    "import torch\n",
    "import torch.nn as nn\n",
    "import torch.nn.functional as F\n",
    "from torch.utils.data import DataLoader, TensorDataset\n",
    "from transformers import AutoTokenizer, AutoModel\n",
    "\n"
   ]
  },
  {
   "cell_type": "code",
   "execution_count": 4,
   "id": "ae910eef",
   "metadata": {},
   "outputs": [],
   "source": [
    "class DAEME (nn.Module):\n",
    "    def __init__(self,input_dim,hidden=[300,300]):\n",
    "        super(DAEME).__init__()\n",
    "        self.encoder_amharic = nn.Linear(input_dim[0],hidden)\n",
    "        self.encoder_arabic = nn.Linear(input_dim[1],hidden)\n",
    "        \n",
    "        self.decoder_amharic = nn.Linear(hidden,input_dim[0])\n",
    "        self.decoder_arabic = nn.Linear(hidden,input_dim[1])\n",
    "        \n",
    "        self.activation = nn.ReLU()\n",
    "        \n",
    "        #weight initializattion\n",
    "        for layer in [self.encoder_amharic,self.decoder_arabic,self.decoder_amharic,self.decoder_arabic]:\n",
    "            nn.init.normal_(layer.weight, mean=0.0, std = 0.1)\n",
    "            nn.init.zeros_(layer.bias)\n",
    "            \n",
    "    def forward(self, amharic_vec,arabic_vec):\n",
    "        s1 = self.encoder_amharic(amharic_vec)\n",
    "        s2 = self.encoder_amharic(amharic_vec)\n",
    "        E1 = self.activation(s1)\n",
    "        E2 = self.activation(s2)\n",
    "        meta = torch.cat([E1,E2],dim=1)\n",
    "        s1_hat = self.decoder_amharic(E1)\n",
    "        s2_hat = self.decoder_arabic(E2)\n",
    "        return meta,(s1_hat,s2_hat)\n",
    "    \n",
    "    #apply noise to discover meaningful patterns\n",
    "    @staticmethod\n",
    "    def apply_masking_noise(batch, noise_fraction=0.2):\n",
    "        mask = torch.rand_like(batch) > noise_fraction\n",
    "        return batch * mask.float()\n",
    "\n",
    "        "
   ]
  },
  {
   "cell_type": "code",
   "execution_count": 5,
   "id": "40bb72d6",
   "metadata": {},
   "outputs": [],
   "source": [
    "device = torch.device(\"cuda\" if torch.cuda.is_available() else \"cpu\")"
   ]
  },
  {
   "cell_type": "code",
   "execution_count": 8,
   "id": "02f02b54",
   "metadata": {},
   "outputs": [
    {
     "name": "stderr",
     "output_type": "stream",
     "text": [
      "d:\\semeval\\venv\\Lib\\site-packages\\huggingface_hub\\file_download.py:143: UserWarning: `huggingface_hub` cache-system uses symlinks by default to efficiently store duplicated files but your machine does not support them in C:\\Users\\Lenovo\\.cache\\huggingface\\hub\\models--rasyosef--roberta-amharic-text-embedding-base. Caching files will still work but in a degraded version that might require more space on your disk. This warning can be disabled by setting the `HF_HUB_DISABLE_SYMLINKS_WARNING` environment variable. For more details, see https://huggingface.co/docs/huggingface_hub/how-to-cache#limitations.\n",
      "To support symlinks on Windows, you either need to activate Developer Mode or to run Python as an administrator. In order to activate developer mode, see this article: https://docs.microsoft.com/en-us/windows/apps/get-started/enable-your-device-for-development\n",
      "  warnings.warn(message)\n",
      "Xet Storage is enabled for this repo, but the 'hf_xet' package is not installed. Falling back to regular HTTP download. For better performance, install the package with: `pip install huggingface_hub[hf_xet]` or `pip install hf_xet`\n",
      "d:\\semeval\\venv\\Lib\\site-packages\\huggingface_hub\\file_download.py:143: UserWarning: `huggingface_hub` cache-system uses symlinks by default to efficiently store duplicated files but your machine does not support them in C:\\Users\\Lenovo\\.cache\\huggingface\\hub\\models--asafaya--bert-base-arabic. Caching files will still work but in a degraded version that might require more space on your disk. This warning can be disabled by setting the `HF_HUB_DISABLE_SYMLINKS_WARNING` environment variable. For more details, see https://huggingface.co/docs/huggingface_hub/how-to-cache#limitations.\n",
      "To support symlinks on Windows, you either need to activate Developer Mode or to run Python as an administrator. In order to activate developer mode, see this article: https://docs.microsoft.com/en-us/windows/apps/get-started/enable-your-device-for-development\n",
      "  warnings.warn(message)\n",
      "Xet Storage is enabled for this repo, but the 'hf_xet' package is not installed. Falling back to regular HTTP download. For better performance, install the package with: `pip install huggingface_hub[hf_xet]` or `pip install hf_xet`\n"
     ]
    }
   ],
   "source": [
    "# Amharic embedding model\n",
    "amharic_tokenizer = AutoTokenizer.from_pretrained(\"rasyosef/roberta-amharic-text-embedding-base\")\n",
    "amharic_model     = AutoModel.from_pretrained(\"rasyosef/roberta-amharic-text-embedding-base\").to(device)\n",
    "\n",
    "# Arabic embedding model (replace with pretrained Arabic model)\n",
    "arabic_tokenizer = AutoTokenizer.from_pretrained(\"asafaya/bert-base-arabic\")\n",
    "arabic_model     = AutoModel.from_pretrained(\"asafaya/bert-base-arabic\").to(device)"
   ]
  },
  {
   "cell_type": "code",
   "execution_count": null,
   "id": "d1971836",
   "metadata": {},
   "outputs": [],
   "source": [
    "def embed_texts(model, tokenizer, texts, device=device):\n",
    "    enc = tokenizer(texts, padding=True, truncation=True, return_tensors=\"pt\")\n",
    "    input_ids = enc[\"input_ids\"].to(device)\n",
    "    attention_mask = enc[\"attention_mask\"].to(device)\n",
    "    \n",
    "    with torch.no_grad():\n",
    "        outputs = model(input_ids=input_ids, attention_mask=attention_mask, return_dict=True)\n",
    "        # Mean pooling\n",
    "        last_hidden = outputs.last_hidden_state  # (batch, seq_len, hidden_dim)\n",
    "        mask = attention_mask.unsqueeze(-1).expand_as(last_hidden)\n",
    "        summed = torch.sum(last_hidden * mask, dim=1)\n",
    "        counts = torch.clamp(torch.sum(mask, dim=1), min=1e-9)\n",
    "        pooled = summed / counts  # (batch, hidden_dim)\n",
    "    return pooled\n"
   ]
  }
 ],
 "metadata": {
  "kernelspec": {
   "display_name": "venv (3.12.6)",
   "language": "python",
   "name": "python3"
  },
  "language_info": {
   "codemirror_mode": {
    "name": "ipython",
    "version": 3
   },
   "file_extension": ".py",
   "mimetype": "text/x-python",
   "name": "python",
   "nbconvert_exporter": "python",
   "pygments_lexer": "ipython3",
   "version": "3.12.6"
  }
 },
 "nbformat": 4,
 "nbformat_minor": 5
}
