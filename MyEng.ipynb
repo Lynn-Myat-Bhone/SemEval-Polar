{
  "cells": [
    {
      "cell_type": "code",
      "source": [
        "!pip install fasttext"
      ],
      "metadata": {
        "colab": {
          "base_uri": "https://localhost:8080/"
        },
        "id": "NrXdWPdYkkJc",
        "outputId": "80cd5860-1be5-4018-af13-30fc85b10687"
      },
      "id": "NrXdWPdYkkJc",
      "execution_count": 1,
      "outputs": [
        {
          "output_type": "stream",
          "name": "stdout",
          "text": [
            "Requirement already satisfied: fasttext in /usr/local/lib/python3.12/dist-packages (0.9.3)\n",
            "Requirement already satisfied: pybind11>=2.2 in /usr/local/lib/python3.12/dist-packages (from fasttext) (3.0.1)\n",
            "Requirement already satisfied: setuptools>=0.7.0 in /usr/local/lib/python3.12/dist-packages (from fasttext) (75.2.0)\n",
            "Requirement already satisfied: numpy in /usr/local/lib/python3.12/dist-packages (from fasttext) (2.0.2)\n"
          ]
        }
      ]
    },
    {
      "cell_type": "code",
      "execution_count": 24,
      "id": "b179763c",
      "metadata": {
        "id": "b179763c"
      },
      "outputs": [],
      "source": [
        "from huggingface_hub import hf_hub_download\n",
        "import fasttext\n",
        "import numpy as np\n",
        "import pandas as pd\n",
        "import torch\n",
        "import torch.nn as nn\n",
        "import matplotlib.pyplot as plt"
      ]
    },
    {
      "cell_type": "code",
      "execution_count": 3,
      "id": "243d713c",
      "metadata": {
        "colab": {
          "base_uri": "https://localhost:8080/"
        },
        "id": "243d713c",
        "outputId": "4b7819f7-de3d-4b8d-bc02-da46fb30502d"
      },
      "outputs": [
        {
          "output_type": "stream",
          "name": "stderr",
          "text": [
            "/usr/local/lib/python3.12/dist-packages/huggingface_hub/utils/_auth.py:94: UserWarning: \n",
            "The secret `HF_TOKEN` does not exist in your Colab secrets.\n",
            "To authenticate with the Hugging Face Hub, create a token in your settings tab (https://huggingface.co/settings/tokens), set it as secret in your Google Colab and restart your session.\n",
            "You will be able to reuse this secret in all of your notebooks.\n",
            "Please note that authentication is recommended but still optional to access public models or datasets.\n",
            "  warnings.warn(\n"
          ]
        }
      ],
      "source": [
        "model_path = hf_hub_download(repo_id=\"facebook/fasttext-en-vectors\", filename=\"model.bin\")\n",
        "en_model = fasttext.load_model(model_path)\n",
        "model_path_my = hf_hub_download(repo_id=\"facebook/fasttext-my-vectors\", filename=\"model.bin\")\n",
        "my_model = fasttext.load_model(model_path_my)\n"
      ]
    },
    {
      "cell_type": "code",
      "execution_count": 4,
      "id": "a7df3507",
      "metadata": {
        "id": "a7df3507"
      },
      "outputs": [],
      "source": [
        "device = 'cuda:0' if torch.cuda.is_available() else 'cpu'"
      ]
    },
    {
      "cell_type": "code",
      "source": [
        "import pandas as pd\n",
        "\n",
        "url_A = \"https://github.com/mcfnlp/Dictionary/raw/master/Dictionary(Eng-Myan)Wordlist_Part_A.xls\"\n",
        "url_B = \"https://github.com/mcfnlp/Dictionary/raw/master/Dictionary(Eng-Myan)Wordlist_Part_B.xls\"\n",
        "\n",
        "df_A = pd.read_excel(url_A)\n",
        "df_B = pd.read_excel(url_B)\n",
        "\n",
        "# Combine them\n",
        "df = pd.concat([df_A, df_B], ignore_index=True)\n",
        "\n",
        "print(f\"Total rows loaded: {len(df)}\")\n"
      ],
      "metadata": {
        "colab": {
          "base_uri": "https://localhost:8080/"
        },
        "id": "3RN45IIBtaLS",
        "outputId": "e3d1f596-6b24-4f79-d2b1-c824de0af60f"
      },
      "id": "3RN45IIBtaLS",
      "execution_count": 5,
      "outputs": [
        {
          "output_type": "stream",
          "name": "stdout",
          "text": [
            "Total rows loaded: 109638\n"
          ]
        }
      ]
    },
    {
      "cell_type": "code",
      "source": [
        "corpus_eng = df['word'].tolist()\n",
        "corpus_my = df['def'].tolist()\n",
        "\n",
        "corpus_eng = [w for w in corpus_eng if isinstance(w, str) and w.strip()]\n",
        "corpus_my = [w for w in corpus_my if isinstance(w, str) and w.strip()]\n",
        "\n",
        "print(f\"Total word pairs: {len(corpus_my)}\")\n",
        "print(\"First 5 pairs:\")\n",
        "for i in range(5):\n",
        "    print(corpus_my[i], \"<->\", corpus_eng[i])\n"
      ],
      "metadata": {
        "colab": {
          "base_uri": "https://localhost:8080/"
        },
        "id": "QNF39VUQt-5L",
        "outputId": "28704d74-f350-417f-ea9e-51d2e3498c9a"
      },
      "id": "QNF39VUQt-5L",
      "execution_count": 6,
      "outputs": [
        {
          "output_type": "stream",
          "name": "stdout",
          "text": [
            "Total word pairs: 109390\n",
            "First 5 pairs:\n",
            "ပထမအင်္ဂလိပ်အက္ခရာ <-> A\n",
            "မေဂျာ သံစဉ်တွင် ၆ ခုမြောက်အသံ <-> A\n",
            "ယင်း၏ သံပုံ <-> A\n",
            "သုံးပေါက်သံ <-> A\n",
            "ပညာရပ်တစ်ခုခု သင်ယူရာ၌ အမြင့်ဆုံးရနိုင်သော အဆင့် သတ်မှတ်ချက် <-> A\n"
          ]
        }
      ]
    },
    {
      "cell_type": "code",
      "source": [
        "# def words_to_vecs(words, model):\n",
        "#     vecs = []\n",
        "#     for w in words:\n",
        "#         vecs.append(model.get_word_vector(w))\n",
        "#     return np.stack(vecs)\n",
        "\n",
        "# def phrases_to_vecs(phrases, model):\n",
        "#     vecs = []\n",
        "#     for phrase in phrases:\n",
        "#         words = phrase.split()\n",
        "#         word_vecs = [model.get_word_vector(w) for w in words if w in model.get_words()]\n",
        "#         if word_vecs:\n",
        "#             vecs.append(np.mean(word_vecs, axis=0))\n",
        "#         else:\n",
        "#             vecs.append(np.zeros(model.get_dimension()))\n",
        "#     return np.stack(vecs)\n",
        "\n",
        "# english_vecs = words_to_vecs(corpus_eng, en_model)\n",
        "# burmese_vecs = phrases_to_vecs(corpus_my, my_model)\n",
        "\n",
        "\n",
        "dim = en_model.get_dimension()\n",
        "\n",
        "# Function for single words → outputs GPU tensor\n",
        "def words_to_vecs_gpu(words, model, device=device):\n",
        "    word_set = set(model.get_words())\n",
        "    vecs = []\n",
        "    for w in words:\n",
        "        if w in word_set:\n",
        "            vecs.append(torch.tensor(model.get_word_vector(w), device=device))\n",
        "        else:\n",
        "            vecs.append(torch.zeros(dim, device=device))\n",
        "    return torch.stack(vecs)\n",
        "\n",
        "# Function for phrases → outputs GPU tensor\n",
        "def phrases_to_vecs_gpu(phrases, model, device=device):\n",
        "    word_set = set(model.get_words())\n",
        "    vecs = []\n",
        "    for phrase in phrases:\n",
        "        words = phrase.split()\n",
        "        word_vecs = [torch.tensor(model.get_word_vector(w), device=device) for w in words if w in word_set]\n",
        "        if word_vecs:\n",
        "            vecs.append(torch.mean(torch.stack(word_vecs), dim=0))\n",
        "        else:\n",
        "            vecs.append(torch.zeros(dim, device=device))\n",
        "    return torch.stack(vecs)\n"
      ],
      "metadata": {
        "id": "ALG0sOavvKah"
      },
      "id": "ALG0sOavvKah",
      "execution_count": 9,
      "outputs": []
    },
    {
      "cell_type": "code",
      "source": [
        "english_vecs = words_to_vecs_gpu(corpus_eng, en_model)\n",
        "burmese_vecs = phrases_to_vecs_gpu(corpus_my, my_model)\n",
        "\n",
        "print(\"English tensor shape:\", english_vecs.shape)\n",
        "print(\"Burmese tensor shape:\", burmese_vecs.shape)"
      ],
      "metadata": {
        "colab": {
          "base_uri": "https://localhost:8080/"
        },
        "id": "mhRh8C_5x_ZC",
        "outputId": "69ecec29-9866-47ac-dad0-81c0f6501b39"
      },
      "id": "mhRh8C_5x_ZC",
      "execution_count": 10,
      "outputs": [
        {
          "output_type": "stream",
          "name": "stdout",
          "text": [
            "English tensor shape: torch.Size([109624, 300])\n",
            "Burmese tensor shape: torch.Size([109390, 300])\n"
          ]
        }
      ]
    },
    {
      "cell_type": "code",
      "source": [
        "burmese_vecs = torch.tensor(burmese_vecs, dtype=torch.float32).to(device)\n",
        "english_vecs = torch.tensor(english_vecs, dtype=torch.float32).to(device)\n"
      ],
      "metadata": {
        "colab": {
          "base_uri": "https://localhost:8080/"
        },
        "id": "6778rti3ZpPW",
        "outputId": "c5cf431a-93b5-4192-9f25-f6f7a3e6bb5c"
      },
      "id": "6778rti3ZpPW",
      "execution_count": 13,
      "outputs": [
        {
          "output_type": "stream",
          "name": "stderr",
          "text": [
            "/tmp/ipython-input-915777762.py:1: UserWarning: To copy construct from a tensor, it is recommended to use sourceTensor.detach().clone() or sourceTensor.detach().clone().requires_grad_(True), rather than torch.tensor(sourceTensor).\n",
            "  burmese_vecs = torch.tensor(burmese_vecs, dtype=torch.float32).to(device)\n",
            "/tmp/ipython-input-915777762.py:2: UserWarning: To copy construct from a tensor, it is recommended to use sourceTensor.detach().clone() or sourceTensor.detach().clone().requires_grad_(True), rather than torch.tensor(sourceTensor).\n",
            "  english_vecs = torch.tensor(english_vecs, dtype=torch.float32).to(device)\n"
          ]
        }
      ]
    },
    {
      "cell_type": "code",
      "source": [
        "class DAEME(nn.Module):\n",
        "    def __init__(self, input_dim=300, hidden_dim=300):\n",
        "        super(DAEME, self).__init__()\n",
        "        self.encoder_burmese = nn.Linear(input_dim, hidden_dim)\n",
        "        self.encoder_english = nn.Linear(input_dim, hidden_dim)\n",
        "        self.decoder_burmese = nn.Linear(hidden_dim, input_dim)\n",
        "        self.decoder_english = nn.Linear(hidden_dim, input_dim)\n",
        "        self.activation = nn.ReLU()\n",
        "\n",
        "        # Weight initialization\n",
        "        for layer in [self.encoder_burmese, self.encoder_english,\n",
        "                      self.decoder_burmese, self.decoder_english]:\n",
        "            nn.init.normal_(layer.weight, mean=0.0, std=0.1)\n",
        "            nn.init.zeros_(layer.bias)\n",
        "\n",
        "    def forward(self, burmese_vec, english_vec):\n",
        "        E1 = self.activation(self.encoder_burmese(burmese_vec))\n",
        "        E2 = self.activation(self.encoder_english(english_vec))\n",
        "        meta = torch.cat([E1, E2], dim=1)\n",
        "        s1_hat = self.decoder_burmese(E1)\n",
        "        s2_hat = self.decoder_english(E2)\n",
        "        return meta, (s1_hat, s2_hat)\n",
        "\n",
        "    @staticmethod\n",
        "    def apply_masking_noise(batch, noise_fraction=0.2):\n",
        "        mask = torch.rand_like(batch) > noise_fraction\n",
        "        return batch * mask.float()\n"
      ],
      "metadata": {
        "id": "cl5me8Hon4Kh"
      },
      "id": "cl5me8Hon4Kh",
      "execution_count": 14,
      "outputs": []
    },
    {
      "cell_type": "code",
      "source": [
        "model = DAEME(input_dim=300, hidden_dim=300).to(device)\n",
        "\n",
        "optimizer = torch.optim.Adam(model.parameters(), lr=0.0001)\n",
        "loss_fn = nn.MSELoss()\n",
        "\n",
        "epochs = 100\n",
        "batch_size = 20000\n",
        "num_batches = len(burmese_tensor) // batch_size + 1\n",
        "\n",
        "for epoch in range(epochs):\n",
        "    epoch_loss = 0\n",
        "    for i in range(num_batches):\n",
        "        start = i * batch_size\n",
        "        end = min((i+1)*batch_size, len(burmese_tensor))\n",
        "\n",
        "        burmese_batch = burmese_tensor[start:end]\n",
        "        english_batch = english_tensor[start:end]\n",
        "\n",
        "        optimizer.zero_grad()\n",
        "        burmese_noisy = DAEME.apply_masking_noise(burmese_batch, 0.2)\n",
        "        english_noisy = DAEME.apply_masking_noise(english_batch, 0.2)\n",
        "\n",
        "        meta, (b_hat, e_hat) = model(burmese_noisy, english_noisy)\n",
        "        loss = loss_fn(b_hat, burmese_batch) + loss_fn(e_hat, english_batch)\n",
        "        loss.backward()\n",
        "        optimizer.step()\n",
        "\n",
        "        epoch_loss += loss.item()\n",
        "    print(f\"Epoch {epoch}, Avg Loss: {epoch_loss/num_batches:.4f}\")\n"
      ],
      "metadata": {
        "colab": {
          "base_uri": "https://localhost:8080/"
        },
        "id": "w2BOrNNm841y",
        "outputId": "90679c96-8b3c-4ffd-bb67-ab4acfef7299"
      },
      "id": "w2BOrNNm841y",
      "execution_count": 19,
      "outputs": [
        {
          "output_type": "stream",
          "name": "stdout",
          "text": [
            "Epoch 0, Avg Loss: 0.0166\n",
            "Epoch 1, Avg Loss: 0.0154\n",
            "Epoch 2, Avg Loss: 0.0145\n",
            "Epoch 3, Avg Loss: 0.0136\n",
            "Epoch 4, Avg Loss: 0.0129\n",
            "Epoch 5, Avg Loss: 0.0123\n",
            "Epoch 6, Avg Loss: 0.0118\n",
            "Epoch 7, Avg Loss: 0.0114\n",
            "Epoch 8, Avg Loss: 0.0110\n",
            "Epoch 9, Avg Loss: 0.0106\n",
            "Epoch 10, Avg Loss: 0.0103\n",
            "Epoch 11, Avg Loss: 0.0100\n",
            "Epoch 12, Avg Loss: 0.0098\n",
            "Epoch 13, Avg Loss: 0.0095\n",
            "Epoch 14, Avg Loss: 0.0093\n",
            "Epoch 15, Avg Loss: 0.0091\n",
            "Epoch 16, Avg Loss: 0.0089\n",
            "Epoch 17, Avg Loss: 0.0087\n",
            "Epoch 18, Avg Loss: 0.0085\n",
            "Epoch 19, Avg Loss: 0.0083\n",
            "Epoch 20, Avg Loss: 0.0082\n",
            "Epoch 21, Avg Loss: 0.0080\n",
            "Epoch 22, Avg Loss: 0.0079\n",
            "Epoch 23, Avg Loss: 0.0077\n",
            "Epoch 24, Avg Loss: 0.0076\n",
            "Epoch 25, Avg Loss: 0.0075\n",
            "Epoch 26, Avg Loss: 0.0074\n",
            "Epoch 27, Avg Loss: 0.0073\n",
            "Epoch 28, Avg Loss: 0.0071\n",
            "Epoch 29, Avg Loss: 0.0070\n",
            "Epoch 30, Avg Loss: 0.0069\n",
            "Epoch 31, Avg Loss: 0.0068\n",
            "Epoch 32, Avg Loss: 0.0067\n",
            "Epoch 33, Avg Loss: 0.0066\n",
            "Epoch 34, Avg Loss: 0.0066\n",
            "Epoch 35, Avg Loss: 0.0065\n",
            "Epoch 36, Avg Loss: 0.0064\n",
            "Epoch 37, Avg Loss: 0.0063\n",
            "Epoch 38, Avg Loss: 0.0062\n",
            "Epoch 39, Avg Loss: 0.0061\n",
            "Epoch 40, Avg Loss: 0.0061\n",
            "Epoch 41, Avg Loss: 0.0060\n",
            "Epoch 42, Avg Loss: 0.0059\n",
            "Epoch 43, Avg Loss: 0.0059\n",
            "Epoch 44, Avg Loss: 0.0058\n",
            "Epoch 45, Avg Loss: 0.0057\n",
            "Epoch 46, Avg Loss: 0.0057\n",
            "Epoch 47, Avg Loss: 0.0056\n",
            "Epoch 48, Avg Loss: 0.0056\n",
            "Epoch 49, Avg Loss: 0.0055\n",
            "Epoch 50, Avg Loss: 0.0054\n",
            "Epoch 51, Avg Loss: 0.0054\n",
            "Epoch 52, Avg Loss: 0.0053\n",
            "Epoch 53, Avg Loss: 0.0053\n",
            "Epoch 54, Avg Loss: 0.0052\n",
            "Epoch 55, Avg Loss: 0.0052\n",
            "Epoch 56, Avg Loss: 0.0052\n",
            "Epoch 57, Avg Loss: 0.0051\n",
            "Epoch 58, Avg Loss: 0.0051\n",
            "Epoch 59, Avg Loss: 0.0050\n",
            "Epoch 60, Avg Loss: 0.0050\n",
            "Epoch 61, Avg Loss: 0.0050\n",
            "Epoch 62, Avg Loss: 0.0049\n",
            "Epoch 63, Avg Loss: 0.0049\n",
            "Epoch 64, Avg Loss: 0.0048\n",
            "Epoch 65, Avg Loss: 0.0048\n",
            "Epoch 66, Avg Loss: 0.0048\n",
            "Epoch 67, Avg Loss: 0.0047\n",
            "Epoch 68, Avg Loss: 0.0047\n",
            "Epoch 69, Avg Loss: 0.0047\n",
            "Epoch 70, Avg Loss: 0.0046\n",
            "Epoch 71, Avg Loss: 0.0046\n",
            "Epoch 72, Avg Loss: 0.0046\n",
            "Epoch 73, Avg Loss: 0.0046\n",
            "Epoch 74, Avg Loss: 0.0045\n",
            "Epoch 75, Avg Loss: 0.0045\n",
            "Epoch 76, Avg Loss: 0.0045\n",
            "Epoch 77, Avg Loss: 0.0044\n",
            "Epoch 78, Avg Loss: 0.0044\n",
            "Epoch 79, Avg Loss: 0.0044\n",
            "Epoch 80, Avg Loss: 0.0044\n",
            "Epoch 81, Avg Loss: 0.0043\n",
            "Epoch 82, Avg Loss: 0.0043\n",
            "Epoch 83, Avg Loss: 0.0043\n",
            "Epoch 84, Avg Loss: 0.0043\n",
            "Epoch 85, Avg Loss: 0.0043\n",
            "Epoch 86, Avg Loss: 0.0042\n",
            "Epoch 87, Avg Loss: 0.0042\n",
            "Epoch 88, Avg Loss: 0.0042\n",
            "Epoch 89, Avg Loss: 0.0042\n",
            "Epoch 90, Avg Loss: 0.0042\n",
            "Epoch 91, Avg Loss: 0.0041\n",
            "Epoch 92, Avg Loss: 0.0041\n",
            "Epoch 93, Avg Loss: 0.0041\n",
            "Epoch 94, Avg Loss: 0.0041\n",
            "Epoch 95, Avg Loss: 0.0041\n",
            "Epoch 96, Avg Loss: 0.0040\n",
            "Epoch 97, Avg Loss: 0.0040\n",
            "Epoch 98, Avg Loss: 0.0040\n",
            "Epoch 99, Avg Loss: 0.0040\n"
          ]
        }
      ]
    },
    {
      "cell_type": "code",
      "source": [
        "mapped_vectors = {}\n",
        "all_burmese_words = corpus_my\n",
        "with torch.no_grad():\n",
        "    for i, w in enumerate(all_burmese_words):\n",
        "        vec = burmese_vecs[i]                     # Original vector\n",
        "        mapped_vec = model.encoder_burmese(vec)  # Encode to meta-space\n",
        "        mapped_vectors[w] = mapped_vec.cpu().numpy()"
      ],
      "metadata": {
        "id": "HL2ulpK_9NOV"
      },
      "id": "HL2ulpK_9NOV",
      "execution_count": 28,
      "outputs": []
    },
    {
      "cell_type": "code",
      "source": [
        "torch.save(model, \"daeme_model.pth\")\n",
        "torch.save(english_vecs, \"english_tensor.pt\")\n",
        "torch.save(burmese_vecs, \"burmese_tensor.pt\")\n"
      ],
      "metadata": {
        "id": "SY8io_-m-sby"
      },
      "id": "SY8io_-m-sby",
      "execution_count": 26,
      "outputs": []
    },
    {
      "cell_type": "code",
      "source": [
        "import pickle\n",
        "\n",
        "with open(\"mapped_vectors.pkl\", \"wb\") as f:\n",
        "    pickle.dump(mapped_vectors, f)\n"
      ],
      "metadata": {
        "id": "AeYH4KEQ_AZA"
      },
      "id": "AeYH4KEQ_AZA",
      "execution_count": 29,
      "outputs": []
    },
    {
      "cell_type": "code",
      "source": [
        "all_sims = []\n",
        "model.eval()\n",
        "with torch.no_grad():\n",
        "    for i in range(len(burmese_tensor)):\n",
        "        b_vec = model.encoder_burmese(burmese_tensor[i].unsqueeze(0))\n",
        "        e_vec = model.encoder_english(english_tensor[i].unsqueeze(0))\n",
        "        sim = F.cosine_similarity(b_vec, e_vec)\n",
        "        all_sims.append(sim.item())\n",
        "\n",
        "plt.hist(all_sims, bins=50)\n",
        "plt.xlabel(\"Cosine similarity\")\n",
        "plt.ylabel(\"Frequency\")\n",
        "plt.title(\"Distribution of Burmese-English Cosine Similarities\")\n",
        "plt.show()\n"
      ],
      "metadata": {
        "colab": {
          "base_uri": "https://localhost:8080/",
          "height": 472
        },
        "id": "CPnvQNPr_gKM",
        "outputId": "7d520b51-5901-4cb5-8529-ece278fa04ca"
      },
      "id": "CPnvQNPr_gKM",
      "execution_count": 31,
      "outputs": [
        {
          "output_type": "display_data",
          "data": {
            "text/plain": [
              "<Figure size 640x480 with 1 Axes>"
            ],
            "image/png": "[encoded data removed]"
          },
          "metadata": {}
        }
      ]
    },
    {
      "cell_type": "code",
      "source": [
        "import pickle\n",
        "\n",
        "with open(\"mapped_vectors.pkl\", \"rb\") as f:\n",
        "    mapped_vectors = pickle.load(f)\n",
        "\n",
        "print(f\"Total mapped vectors: {len(mapped_vectors)}\")\n",
        "example_key = list(mapped_vectors.keys())[0]\n",
        "print(\"Example:\", example_key, mapped_vectors[example_key][:10])\n"
      ],
      "metadata": {
        "colab": {
          "base_uri": "https://localhost:8080/"
        },
        "id": "IGzGHxrqemd5",
        "outputId": "dbb02dd4-6b21-4aa9-ae43-37c19ea03ccb"
      },
      "id": "IGzGHxrqemd5",
      "execution_count": 30,
      "outputs": [
        {
          "output_type": "stream",
          "name": "stdout",
          "text": [
            "Total mapped vectors: 76700\n",
            "Example: ပထမအင်္ဂလိပ်အက္ခရာ [-0.03610078 -0.02706265 -0.02505255 -0.03319115 -0.02951134 -0.02600441\n",
            " -0.02033756 -0.039611   -0.03369364 -0.02263284]\n"
          ]
        }
      ]
    }
  ],
  "metadata": {
    "language_info": {
      "name": "python"
    },
    "colab": {
      "provenance": [],
      "gpuType": "T4"
    },
    "kernelspec": {
      "name": "python3",
      "display_name": "Python 3"
    },
    "accelerator": "GPU"
  },
  "nbformat": 4,
  "nbformat_minor": 5
}