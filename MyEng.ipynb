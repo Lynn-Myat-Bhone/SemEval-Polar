{
 "cells": [
  {
   "cell_type": "code",
   "execution_count": null,
   "id": "b179763c",
   "metadata": {},
   "outputs": [],
   "source": [
    "from huggingface_hub import hf_hub_download\n",
    "import fasttext"
   ]
  },
  {
   "cell_type": "code",
   "execution_count": null,
   "id": "243d713c",
   "metadata": {},
   "outputs": [],
   "source": [
    "model_path = hf_hub_download(repo_id=\"facebook/fasttext-en-vectors\", filename=\"model.bin\")\n",
    "en_model = fasttext.load_model(model_path)\n",
    "model_path_my = hf_hub_download(repo_id=\"facebook/fasttext-my-vectors\", filename=\"model.bin\")\n",
    "my_model = fasttext.load_model(model_path_my)\n"
   ]
  },
  {
   "cell_type": "code",
   "execution_count": null,
   "id": "a7df3507",
   "metadata": {},
   "outputs": [],
   "source": []
  }
 ],
 "metadata": {
  "language_info": {
   "name": "python"
  }
 },
 "nbformat": 4,
 "nbformat_minor": 5
}
